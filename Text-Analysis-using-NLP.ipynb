{
 "cells": [
  {
   "cell_type": "markdown",
   "metadata": {},
   "source": [
    "# Objectives: \n",
    "- To perform Exploratory Data Analysis on the given Text Dataset using NLP Techniques. \n",
    "- Visualize Text Dataset in 2D and 3D \n",
    "\n",
    "# Table of Contents: \n",
    "A. Import Libraries \n",
    "B. "
   ]
  },
  {
   "cell_type": "markdown",
   "metadata": {},
   "source": [
    "# A. Import Libraries"
   ]
  },
  {
   "cell_type": "code",
   "execution_count": 23,
   "metadata": {},
   "outputs": [],
   "source": [
    "import nltk\n",
    "import matplotlib.pyplot as plt"
   ]
  },
  {
   "cell_type": "markdown",
   "metadata": {},
   "source": [
    "# B. Import Dataset"
   ]
  },
  {
   "cell_type": "markdown",
   "metadata": {},
   "source": [
    "## Tokenization"
   ]
  },
  {
   "cell_type": "markdown",
   "metadata": {},
   "source": [
    "### Sentence Tokenization"
   ]
  },
  {
   "cell_type": "code",
   "execution_count": 14,
   "metadata": {},
   "outputs": [
    {
     "name": "stdout",
     "output_type": "stream",
     "text": [
      "['Greetings, coffee comrades!', \"Let's dive into the fascinating world of coffee.\", \"☕️ It's not just a beverage; it's a ritual, a hug in a mug.\", \"From the bold espresso shots to the comforting lattes, there's a coffee for every mood.\", 'Picture this: you stroll into a coffee shop, the aroma of freshly ground beans wafting through the air.', \"What's your coffee go-to?\", 'Are you team cappuccino, or do you go all-in with a caramel macchiato?', \"Let's share our favorite coffee tales and maybe discover a new blend together!\", '😊']\n"
     ]
    }
   ],
   "source": [
    "from nltk.tokenize import sent_tokenize\n",
    "text = \"\"\"Greetings, coffee comrades! Let's dive into the fascinating world of coffee. \n",
    "☕️ It's not just a beverage; it's a ritual, a hug in a mug. \n",
    "From the bold espresso shots to the comforting lattes, there's a coffee for every mood. \n",
    "Picture this: you stroll into a coffee shop, the aroma of freshly ground beans wafting through the air. \n",
    "What's your coffee go-to? Are you team cappuccino, or do you go all-in with a caramel macchiato? \n",
    "Let's share our favorite coffee tales and maybe discover a new blend together! 😊\"\"\"\n",
    "\n",
    "tokenized_sent = sent_tokenize(text)\n",
    "print(tokenized_sent)"
   ]
  },
  {
   "cell_type": "markdown",
   "metadata": {},
   "source": [
    "### Word Tokenization"
   ]
  },
  {
   "cell_type": "code",
   "execution_count": 16,
   "metadata": {},
   "outputs": [
    {
     "name": "stdout",
     "output_type": "stream",
     "text": [
      "['Greetings', ',', 'coffee', 'comrades', '!', 'Let', \"'s\", 'dive', 'into', 'the', 'fascinating', 'world', 'of', 'coffee', '.', '☕️', 'It', \"'s\", 'not', 'just', 'a', 'beverage', ';', 'it', \"'s\", 'a', 'ritual', ',', 'a', 'hug', 'in', 'a', 'mug', '.', 'From', 'the', 'bold', 'espresso', 'shots', 'to', 'the', 'comforting', 'lattes', ',', 'there', \"'s\", 'a', 'coffee', 'for', 'every', 'mood', '.', 'Picture', 'this', ':', 'you', 'stroll', 'into', 'a', 'coffee', 'shop', ',', 'the', 'aroma', 'of', 'freshly', 'ground', 'beans', 'wafting', 'through', 'the', 'air', '.', 'What', \"'s\", 'your', 'coffee', 'go-to', '?', 'Are', 'you', 'team', 'cappuccino', ',', 'or', 'do', 'you', 'go', 'all-in', 'with', 'a', 'caramel', 'macchiato', '?', 'Let', \"'s\", 'share', 'our', 'favorite', 'coffee', 'tales', 'and', 'maybe', 'discover', 'a', 'new', 'blend', 'together', '!', '😊']\n"
     ]
    }
   ],
   "source": [
    "from nltk.tokenize import word_tokenize\n",
    "tokenized_word = word_tokenize(text)\n",
    "print(tokenized_word)"
   ]
  },
  {
   "cell_type": "markdown",
   "metadata": {},
   "source": [
    "# Frequency Distribution"
   ]
  },
  {
   "cell_type": "code",
   "execution_count": 21,
   "metadata": {},
   "outputs": [
    {
     "name": "stdout",
     "output_type": "stream",
     "text": [
      "<FreqDist with 75 samples and 110 outcomes>\n"
     ]
    }
   ],
   "source": [
    "from nltk.probability import FreqDist\n",
    "fdist = FreqDist(tokenized_word)\n",
    "print(fdist)"
   ]
  },
  {
   "cell_type": "code",
   "execution_count": 22,
   "metadata": {},
   "outputs": [
    {
     "data": {
      "text/plain": [
       "[('a', 8),\n",
       " ('coffee', 6),\n",
       " (\"'s\", 6),\n",
       " (',', 5),\n",
       " ('the', 5),\n",
       " ('.', 4),\n",
       " ('you', 3),\n",
       " ('!', 2),\n",
       " ('Let', 2),\n",
       " ('into', 2),\n",
       " ('of', 2),\n",
       " ('?', 2),\n",
       " ('Greetings', 1),\n",
       " ('comrades', 1),\n",
       " ('dive', 1),\n",
       " ('fascinating', 1),\n",
       " ('world', 1),\n",
       " ('☕️', 1),\n",
       " ('It', 1),\n",
       " ('not', 1),\n",
       " ('just', 1),\n",
       " ('beverage', 1),\n",
       " (';', 1),\n",
       " ('it', 1),\n",
       " ('ritual', 1),\n",
       " ('hug', 1),\n",
       " ('in', 1),\n",
       " ('mug', 1),\n",
       " ('From', 1),\n",
       " ('bold', 1),\n",
       " ('espresso', 1),\n",
       " ('shots', 1),\n",
       " ('to', 1),\n",
       " ('comforting', 1),\n",
       " ('lattes', 1),\n",
       " ('there', 1),\n",
       " ('for', 1),\n",
       " ('every', 1),\n",
       " ('mood', 1),\n",
       " ('Picture', 1),\n",
       " ('this', 1),\n",
       " (':', 1),\n",
       " ('stroll', 1),\n",
       " ('shop', 1),\n",
       " ('aroma', 1),\n",
       " ('freshly', 1),\n",
       " ('ground', 1),\n",
       " ('beans', 1),\n",
       " ('wafting', 1),\n",
       " ('through', 1),\n",
       " ('air', 1),\n",
       " ('What', 1),\n",
       " ('your', 1),\n",
       " ('go-to', 1),\n",
       " ('Are', 1),\n",
       " ('team', 1),\n",
       " ('cappuccino', 1),\n",
       " ('or', 1),\n",
       " ('do', 1),\n",
       " ('go', 1),\n",
       " ('all-in', 1),\n",
       " ('with', 1),\n",
       " ('caramel', 1),\n",
       " ('macchiato', 1),\n",
       " ('share', 1),\n",
       " ('our', 1),\n",
       " ('favorite', 1),\n",
       " ('tales', 1),\n",
       " ('and', 1),\n",
       " ('maybe', 1),\n",
       " ('discover', 1),\n",
       " ('new', 1),\n",
       " ('blend', 1),\n",
       " ('together', 1),\n",
       " ('😊', 1)]"
      ]
     },
     "execution_count": 22,
     "metadata": {},
     "output_type": "execute_result"
    }
   ],
   "source": [
    "fdist.most_common()"
   ]
  },
  {
   "cell_type": "code",
   "execution_count": 34,
   "metadata": {},
   "outputs": [
    {
     "data": {
      "image/png": "[encoded data removed]",
      "text/plain": [
       "<Figure size 432x288 with 1 Axes>"
      ]
     },
     "metadata": {
      "needs_background": "light"
     },
     "output_type": "display_data"
    }
   ],
   "source": [
    "# Frequency Distribution Plot \n",
    "fdist.plot(30) # Visualizing top 30 word frequencies \n",
    "plt.show()"
   ]
  },
  {
   "cell_type": "markdown",
   "metadata": {},
   "source": [
    "# Removing Stopwords"
   ]
  },
  {
   "cell_type": "code",
   "execution_count": 53,
   "metadata": {},
   "outputs": [
    {
     "name": "stdout",
     "output_type": "stream",
     "text": [
      "{\"it's\", 'its', 'now', 'her', 'both', 'after', 'themselves', \"she's\", 'm', 'ourselves', 'this', 'you', 'few', \"wasn't\", 'how', 'by', \"couldn't\", 'itself', 'here', 'shan', 'while', 'to', \"you've\", \"should've\", \"haven't\", 'against', 'having', 'hadn', 'yourselves', \"aren't\", 'haven', 'wouldn', 'myself', \"needn't\", 'which', 'when', 'into', 'your', 'only', 'up', \"you'll\", 'because', 'again', 'these', 'me', 'those', 'same', 'off', 'y', 'weren', \"weren't\", 've', 'she', 'more', 'him', \"doesn't\", \"didn't\", 'theirs', \"mightn't\", 'if', 'have', 'where', 'such', 'should', 'then', 'ours', 'a', 'too', 'been', 'hers', 'hasn', 'just', 'mightn', 'of', 'needn', 'can', \"you'd\", 'it', 'most', 'for', \"don't\", 'down', 'from', 'each', \"shouldn't\", 'so', 'wasn', 'be', \"shan't\", 'ain', 'until', 'whom', 'is', 'herself', 'were', 'don', 'between', 'd', 'o', 'had', \"hasn't\", 'above', 'yours', 'yourself', 'not', 'over', 'do', 'but', 't', 'nor', 'who', 're', 'll', 'isn', 'all', 'couldn', 'other', \"you're\", 'are', 'on', 'no', 'they', 'their', 'an', 'in', 'ma', 'before', 'out', 'that', 'as', 'very', 'below', \"mustn't\", 'being', 'doing', 'own', 'our', 'with', \"hadn't\", 'i', \"that'll\", 'them', 'under', 'there', 'than', 'further', 'did', 'and', 'doesn', 'during', 'does', 'any', 's', 'we', 'my', 'was', 'will', 'shouldn', 'through', \"wouldn't\", 'didn', 'has', 'why', 'mustn', 'his', 'what', 'himself', \"isn't\", 'won', 'once', 'or', 'some', 'he', \"won't\", 'at', 'aren', 'about', 'am', 'the'}\n"
     ]
    }
   ],
   "source": [
    "from nltk.corpus import stopwords\n",
    "stop_words = set(stopwords.words('english'))\n",
    "print(stop_words)"
   ]
  },
  {
   "cell_type": "code",
   "execution_count": 58,
   "metadata": {},
   "outputs": [
    {
     "name": "stdout",
     "output_type": "stream",
     "text": [
      "Tokenized: \n",
      " ['Greetings', ',', 'coffee', 'comrades', '!', 'Let', \"'s\", 'dive', 'into', 'the', 'fascinating', 'world', 'of', 'coffee', '.', '☕️', 'It', \"'s\", 'not', 'just', 'a', 'beverage', ';', 'it', \"'s\", 'a', 'ritual', ',', 'a', 'hug', 'in', 'a', 'mug', '.', 'From', 'the', 'bold', 'espresso', 'shots', 'to', 'the', 'comforting', 'lattes', ',', 'there', \"'s\", 'a', 'coffee', 'for', 'every', 'mood', '.', 'Picture', 'this', ':', 'you', 'stroll', 'into', 'a', 'coffee', 'shop', ',', 'the', 'aroma', 'of', 'freshly', 'ground', 'beans', 'wafting', 'through', 'the', 'air', '.', 'What', \"'s\", 'your', 'coffee', 'go-to', '?', 'Are', 'you', 'team', 'cappuccino', ',', 'or', 'do', 'you', 'go', 'all-in', 'with', 'a', 'caramel', 'macchiato', '?', 'Let', \"'s\", 'share', 'our', 'favorite', 'coffee', 'tales', 'and', 'maybe', 'discover', 'a', 'new', 'blend', 'together', '!', '😊']\n",
      "Filtered: \n",
      " ['Greetings', ',', 'coffee', 'comrades', '!', 'Let', \"'s\", 'dive', 'fascinating', 'world', 'coffee', '.', '☕️', \"'s\", 'beverage', ';', \"'s\", 'ritual', ',', 'hug', 'mug', '.', 'bold', 'espresso', 'shots', 'comforting', 'lattes', ',', \"'s\", 'coffee', 'every', 'mood', '.', 'Picture', ':', 'stroll', 'coffee', 'shop', ',', 'aroma', 'freshly', 'ground', 'beans', 'wafting', 'air', '.', \"'s\", 'coffee', 'go-to', '?', 'team', 'cappuccino', ',', 'go', 'all-in', 'caramel', 'macchiato', '?', 'Let', \"'s\", 'share', 'favorite', 'coffee', 'tales', 'maybe', 'discover', 'new', 'blend', 'together', '!', '😊']\n"
     ]
    }
   ],
   "source": [
    "filtered_words = []\n",
    "for w in tokenized_word:\n",
    "    if w.lower() not in stop_words: # use lowercase form of the comparitive words \n",
    "        filtered_words.append(w)\n",
    "print(\"Tokenized: \\n\", tokenized_word)\n",
    "print(\"Filtered: \\n\", filtered_words)"
   ]
  },
  {
   "cell_type": "markdown",
   "metadata": {},
   "source": [
    "# Stemming "
   ]
  },
  {
   "cell_type": "code",
   "execution_count": 59,
   "metadata": {},
   "outputs": [
    {
     "name": "stdout",
     "output_type": "stream",
     "text": [
      "Filtered: \n",
      " ['Greetings', ',', 'coffee', 'comrades', '!', 'Let', \"'s\", 'dive', 'fascinating', 'world', 'coffee', '.', '☕️', \"'s\", 'beverage', ';', \"'s\", 'ritual', ',', 'hug', 'mug', '.', 'bold', 'espresso', 'shots', 'comforting', 'lattes', ',', \"'s\", 'coffee', 'every', 'mood', '.', 'Picture', ':', 'stroll', 'coffee', 'shop', ',', 'aroma', 'freshly', 'ground', 'beans', 'wafting', 'air', '.', \"'s\", 'coffee', 'go-to', '?', 'team', 'cappuccino', ',', 'go', 'all-in', 'caramel', 'macchiato', '?', 'Let', \"'s\", 'share', 'favorite', 'coffee', 'tales', 'maybe', 'discover', 'new', 'blend', 'together', '!', '😊']\n",
      "Stemmed: \n",
      " ['greet', ',', 'coffe', 'comrad', '!', 'let', \"'s\", 'dive', 'fascin', 'world', 'coffe', '.', '☕️', \"'s\", 'beverag', ';', \"'s\", 'ritual', ',', 'hug', 'mug', '.', 'bold', 'espresso', 'shot', 'comfort', 'latt', ',', \"'s\", 'coffe', 'everi', 'mood', '.', 'pictur', ':', 'stroll', 'coffe', 'shop', ',', 'aroma', 'freshli', 'ground', 'bean', 'waft', 'air', '.', \"'s\", 'coffe', 'go-to', '?', 'team', 'cappuccino', ',', 'go', 'all-in', 'caramel', 'macchiato', '?', 'let', \"'s\", 'share', 'favorit', 'coffe', 'tale', 'mayb', 'discov', 'new', 'blend', 'togeth', '!', '😊']\n"
     ]
    }
   ],
   "source": [
    "from nltk.stem import PorterStemmer\n",
    "ps = PorterStemmer()\n",
    "stemmed_words = []\n",
    "for w in filtered_words:\n",
    "    stemmed_words.append(ps.stem(w))\n",
    "print(\"Filtered: \\n\", filtered_words)\n",
    "print(\"Stemmed: \\n\", stemmed_words)"
   ]
  },
  {
   "cell_type": "markdown",
   "metadata": {},
   "source": [
    "# Lemmatization "
   ]
  },
  {
   "cell_type": "code",
   "execution_count": 61,
   "metadata": {},
   "outputs": [
    {
     "name": "stdout",
     "output_type": "stream",
     "text": [
      "Stemmed: \n",
      " ['greet', ',', 'coffe', 'comrad', '!', 'let', \"'s\", 'dive', 'fascin', 'world', 'coffe', '.', '☕️', \"'s\", 'beverag', ';', \"'s\", 'ritual', ',', 'hug', 'mug', '.', 'bold', 'espresso', 'shot', 'comfort', 'latt', ',', \"'s\", 'coffe', 'everi', 'mood', '.', 'pictur', ':', 'stroll', 'coffe', 'shop', ',', 'aroma', 'freshli', 'ground', 'bean', 'waft', 'air', '.', \"'s\", 'coffe', 'go-to', '?', 'team', 'cappuccino', ',', 'go', 'all-in', 'caramel', 'macchiato', '?', 'let', \"'s\", 'share', 'favorit', 'coffe', 'tale', 'mayb', 'discov', 'new', 'blend', 'togeth', '!', '😊']\n",
      "Lemmatized: \n",
      " ['Greetings', ',', 'coffee', 'comrades', '!', 'Let', \"'s\", 'dive', 'fascinate', 'world', 'coffee', '.', '☕️', \"'s\", 'beverage', ';', \"'s\", 'ritual', ',', 'hug', 'mug', '.', 'bold', 'espresso', 'shots', 'comfort', 'lattes', ',', \"'s\", 'coffee', 'every', 'mood', '.', 'Picture', ':', 'stroll', 'coffee', 'shop', ',', 'aroma', 'freshly', 'grind', 'bean', 'waft', 'air', '.', \"'s\", 'coffee', 'go-to', '?', 'team', 'cappuccino', ',', 'go', 'all-in', 'caramel', 'macchiato', '?', 'Let', \"'s\", 'share', 'favorite', 'coffee', 'tales', 'maybe', 'discover', 'new', 'blend', 'together', '!', '😊']\n"
     ]
    }
   ],
   "source": [
    "from nltk.stem.wordnet import WordNetLemmatizer\n",
    "lem = WordNetLemmatizer()\n",
    "lemma_words = []\n",
    "for w in filtered_words:\n",
    "    lemma_words.append(lem.lemmatize(w, \"v\"))\n",
    "print(\"Stemmed: \\n\", stemmed_words)\n",
    "print(\"Lemmatized: \\n\", lemma_words)"
   ]
  },
  {
   "cell_type": "markdown",
   "metadata": {},
   "source": [
    "## comparision between Stemming and Lemmatization"
   ]
  },
  {
   "cell_type": "code",
   "execution_count": 69,
   "metadata": {},
   "outputs": [
    {
     "name": "stdout",
     "output_type": "stream",
     "text": [
      "Stemmed Word:  fli\n",
      "Lemmatized Word:  Flying\n"
     ]
    }
   ],
   "source": [
    "word = \"Flying\"\n",
    "print(\"Stemmed Word: \", ps.stem(word))\n",
    "print(\"Lemmatized Word: \", lem.lemmatize(word,\"v\"))"
   ]
  },
  {
   "cell_type": "markdown",
   "metadata": {},
   "source": [
    "# POS Tagging "
   ]
  },
  {
   "cell_type": "code",
   "execution_count": 71,
   "metadata": {},
   "outputs": [
    {
     "data": {
      "text/plain": [
       "[('Greetings', 'NNS'),\n",
       " (',', ','),\n",
       " ('coffee', 'NN'),\n",
       " ('comrades', 'NNS'),\n",
       " ('!', '.'),\n",
       " ('Let', 'NNP'),\n",
       " (\"'s\", 'POS'),\n",
       " ('dive', 'NN'),\n",
       " ('into', 'IN'),\n",
       " ('the', 'DT'),\n",
       " ('fascinating', 'JJ'),\n",
       " ('world', 'NN'),\n",
       " ('of', 'IN'),\n",
       " ('coffee', 'NN'),\n",
       " ('.', '.'),\n",
       " ('☕️', 'VB'),\n",
       " ('It', 'PRP'),\n",
       " (\"'s\", 'VBZ'),\n",
       " ('not', 'RB'),\n",
       " ('just', 'RB'),\n",
       " ('a', 'DT'),\n",
       " ('beverage', 'NN'),\n",
       " (';', ':'),\n",
       " ('it', 'PRP'),\n",
       " (\"'s\", 'VBZ'),\n",
       " ('a', 'DT'),\n",
       " ('ritual', 'JJ'),\n",
       " (',', ','),\n",
       " ('a', 'DT'),\n",
       " ('hug', 'NN'),\n",
       " ('in', 'IN'),\n",
       " ('a', 'DT'),\n",
       " ('mug', 'NN'),\n",
       " ('.', '.'),\n",
       " ('From', 'IN'),\n",
       " ('the', 'DT'),\n",
       " ('bold', 'JJ'),\n",
       " ('espresso', 'JJ'),\n",
       " ('shots', 'NNS'),\n",
       " ('to', 'TO'),\n",
       " ('the', 'DT'),\n",
       " ('comforting', 'NN'),\n",
       " ('lattes', 'VBZ'),\n",
       " (',', ','),\n",
       " ('there', 'EX'),\n",
       " (\"'s\", 'VBZ'),\n",
       " ('a', 'DT'),\n",
       " ('coffee', 'NN'),\n",
       " ('for', 'IN'),\n",
       " ('every', 'DT'),\n",
       " ('mood', 'NN'),\n",
       " ('.', '.'),\n",
       " ('Picture', 'NN'),\n",
       " ('this', 'DT'),\n",
       " (':', ':'),\n",
       " ('you', 'PRP'),\n",
       " ('stroll', 'VBP'),\n",
       " ('into', 'IN'),\n",
       " ('a', 'DT'),\n",
       " ('coffee', 'NN'),\n",
       " ('shop', 'NN'),\n",
       " (',', ','),\n",
       " ('the', 'DT'),\n",
       " ('aroma', 'NN'),\n",
       " ('of', 'IN'),\n",
       " ('freshly', 'JJ'),\n",
       " ('ground', 'NN'),\n",
       " ('beans', 'NNS'),\n",
       " ('wafting', 'VBG'),\n",
       " ('through', 'IN'),\n",
       " ('the', 'DT'),\n",
       " ('air', 'NN'),\n",
       " ('.', '.'),\n",
       " ('What', 'WP'),\n",
       " (\"'s\", 'VBZ'),\n",
       " ('your', 'PRP$'),\n",
       " ('coffee', 'NN'),\n",
       " ('go-to', 'NN'),\n",
       " ('?', '.'),\n",
       " ('Are', 'NNP'),\n",
       " ('you', 'PRP'),\n",
       " ('team', 'VBP'),\n",
       " ('cappuccino', 'NN'),\n",
       " (',', ','),\n",
       " ('or', 'CC'),\n",
       " ('do', 'VB'),\n",
       " ('you', 'PRP'),\n",
       " ('go', 'VB'),\n",
       " ('all-in', 'JJ'),\n",
       " ('with', 'IN'),\n",
       " ('a', 'DT'),\n",
       " ('caramel', 'NN'),\n",
       " ('macchiato', 'NN'),\n",
       " ('?', '.'),\n",
       " ('Let', 'NNP'),\n",
       " (\"'s\", 'POS'),\n",
       " ('share', 'NN'),\n",
       " ('our', 'PRP$'),\n",
       " ('favorite', 'JJ'),\n",
       " ('coffee', 'NN'),\n",
       " ('tales', 'NNS'),\n",
       " ('and', 'CC'),\n",
       " ('maybe', 'RB'),\n",
       " ('discover', 'VB'),\n",
       " ('a', 'DT'),\n",
       " ('new', 'JJ'),\n",
       " ('blend', 'NN'),\n",
       " ('together', 'RB'),\n",
       " ('!', '.'),\n",
       " ('😊', 'NN')]"
      ]
     },
     "execution_count": 71,
     "metadata": {},
     "output_type": "execute_result"
    }
   ],
   "source": [
    "nltk.pos_tag(tokenized_word)"
   ]
  },
  {
   "cell_type": "code",
   "execution_count": 72,
   "metadata": {},
   "outputs": [
    {
     "name": "stdout",
     "output_type": "stream",
     "text": [
      "NN: noun, common, singular or mass\n",
      "    common-carrier cabbage knuckle-duster Casino afghan shed thermostat\n",
      "    investment slide humour falloff slick wind hyena override subhumanity\n",
      "    machinist ...\n"
     ]
    }
   ],
   "source": [
    "nltk.help.upenn_tagset(\"NN\")"
   ]
  },
  {
   "cell_type": "code",
   "execution_count": null,
   "metadata": {},
   "outputs": [],
   "source": []
  }
 ],
 "metadata": {
  "kernelspec": {
   "display_name": "Python 3",
   "language": "python",
   "name": "python3"
  },
  "language_info": {
   "codemirror_mode": {
    "name": "ipython",
    "version": 3
   },
   "file_extension": ".py",
   "mimetype": "text/x-python",
   "name": "python",
   "nbconvert_exporter": "python",
   "pygments_lexer": "ipython3",
   "version": "3.8.5"
  }
 },
 "nbformat": 4,
 "nbformat_minor": 4
}
