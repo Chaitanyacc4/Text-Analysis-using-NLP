{
 "cells": [
  {
   "cell_type": "code",
   "execution_count": 2,
   "metadata": {},
   "outputs": [],
   "source": [
    "import nltk\n",
    "import matplotlib.pyplot as plt"
   ]
  },
  {
   "cell_type": "markdown",
   "metadata": {},
   "source": [
    "# 1. Tokenization\n",
    "The process of breaking down a text paragraph into smaller chunks such as Words or Sentences. "
   ]
  },
  {
   "cell_type": "markdown",
   "metadata": {},
   "source": [
    "## Sentence Tokenization"
   ]
  },
  {
   "cell_type": "code",
   "execution_count": 25,
   "metadata": {},
   "outputs": [
    {
     "name": "stdout",
     "output_type": "stream",
     "text": [
      "['Greetings, coffee comrades!', \"Let's dive into the fascinating world of coffee.\", \"☕️ It's not just a beverage; it's a ritual, a hug in a mug.\", \"From the bold espresso shots to the comforting lattes, there's a coffee for every mood.\"]\n"
     ]
    }
   ],
   "source": [
    "from nltk.tokenize import sent_tokenize\n",
    "text = \"\"\"Greetings, coffee comrades! Let's dive into the fascinating world of coffee. \n",
    "☕️ It's not just a beverage; it's a ritual, a hug in a mug. \n",
    "From the bold espresso shots to the comforting lattes, there's a coffee for every mood. \"\"\"\n",
    "\n",
    "tokenized_sents = sent_tokenize(text)\n",
    "print(tokenized_sents)"
   ]
  },
  {
   "cell_type": "markdown",
   "metadata": {},
   "source": [
    "## Word Tokenization"
   ]
  },
  {
   "cell_type": "code",
   "execution_count": 26,
   "metadata": {},
   "outputs": [
    {
     "name": "stdout",
     "output_type": "stream",
     "text": [
      "['Greetings', ',', 'coffee', 'comrades', '!', 'Let', \"'s\", 'dive', 'into', 'the', 'fascinating', 'world', 'of', 'coffee', '.', '☕️', 'It', \"'s\", 'not', 'just', 'a', 'beverage', ';', 'it', \"'s\", 'a', 'ritual', ',', 'a', 'hug', 'in', 'a', 'mug', '.', 'From', 'the', 'bold', 'espresso', 'shots', 'to', 'the', 'comforting', 'lattes', ',', 'there', \"'s\", 'a', 'coffee', 'for', 'every', 'mood', '.']\n"
     ]
    }
   ],
   "source": [
    "from nltk.tokenize import word_tokenize\n",
    "tokenized_words = word_tokenize(text)\n",
    "print(tokenized_words)"
   ]
  },
  {
   "cell_type": "markdown",
   "metadata": {},
   "source": [
    "# 2. Frequency Distribution"
   ]
  },
  {
   "cell_type": "code",
   "execution_count": 27,
   "metadata": {},
   "outputs": [
    {
     "name": "stdout",
     "output_type": "stream",
     "text": [
      "<FreqDist with 37 samples and 52 outcomes>\n"
     ]
    }
   ],
   "source": [
    "from nltk.probability import FreqDist\n",
    "fdist = FreqDist(tokenized_words)\n",
    "print(fdist)"
   ]
  },
  {
   "cell_type": "code",
   "execution_count": 28,
   "metadata": {},
   "outputs": [
    {
     "data": {
      "text/plain": [
       "[('a', 5),\n",
       " (\"'s\", 4),\n",
       " (',', 3),\n",
       " ('coffee', 3),\n",
       " ('the', 3),\n",
       " ('.', 3),\n",
       " ('Greetings', 1),\n",
       " ('comrades', 1),\n",
       " ('!', 1),\n",
       " ('Let', 1),\n",
       " ('dive', 1),\n",
       " ('into', 1),\n",
       " ('fascinating', 1),\n",
       " ('world', 1),\n",
       " ('of', 1),\n",
       " ('☕️', 1),\n",
       " ('It', 1),\n",
       " ('not', 1),\n",
       " ('just', 1),\n",
       " ('beverage', 1),\n",
       " (';', 1),\n",
       " ('it', 1),\n",
       " ('ritual', 1),\n",
       " ('hug', 1),\n",
       " ('in', 1),\n",
       " ('mug', 1),\n",
       " ('From', 1),\n",
       " ('bold', 1),\n",
       " ('espresso', 1),\n",
       " ('shots', 1),\n",
       " ('to', 1),\n",
       " ('comforting', 1),\n",
       " ('lattes', 1),\n",
       " ('there', 1),\n",
       " ('for', 1),\n",
       " ('every', 1),\n",
       " ('mood', 1)]"
      ]
     },
     "execution_count": 28,
     "metadata": {},
     "output_type": "execute_result"
    }
   ],
   "source": [
    "fdist.most_common()"
   ]
  },
  {
   "cell_type": "code",
   "execution_count": 29,
   "metadata": {},
   "outputs": [
    {
     "data": {
      "image/png": "[encoded data removed]",
      "text/plain": [
       "<Figure size 432x288 with 1 Axes>"
      ]
     },
     "metadata": {
      "needs_background": "light"
     },
     "output_type": "display_data"
    }
   ],
   "source": [
    "# Frequency Distribution Plot \n",
    "fdist.plot(30) # Visualizing top 30 word frequencies \n",
    "plt.show()"
   ]
  },
  {
   "cell_type": "markdown",
   "metadata": {},
   "source": [
    "# 3. Stopwords Removal \n",
    "Stop Words are filler words in a language that do not hold up any meaning and are insignificant for EDA "
   ]
  },
  {
   "cell_type": "code",
   "execution_count": 30,
   "metadata": {},
   "outputs": [
    {
     "name": "stdout",
     "output_type": "stream",
     "text": [
      "{'we', 'when', \"you're\", 'he', 'during', 'after', 'themselves', 'each', 'needn', 'same', 'wasn', 'did', 'his', 'as', \"you'd\", 'on', 'at', 'hadn', 'shouldn', 'most', \"that'll\", 'y', 'until', 'down', \"isn't\", \"shouldn't\", 'myself', 'if', 'him', 'theirs', \"wouldn't\", 'own', 'won', 'having', 'and', 'didn', 'yours', 'mightn', 'o', 'their', 'shan', 'd', 'an', 'over', 'between', 'couldn', 'off', \"wasn't\", 'where', \"couldn't\", 'very', 'some', 'being', 'too', 'am', 'not', 'have', 'but', 'all', 'will', 'the', \"shan't\", 'this', 'what', 'by', \"needn't\", 'isn', 'her', 'are', \"won't\", 'further', \"mustn't\", 'which', 'nor', 'doesn', 'itself', 'can', \"mightn't\", 'of', 'from', 'mustn', 'been', 'with', 'our', \"hasn't\", 'your', 'm', \"aren't\", 'be', 'no', 'through', \"she's\", 'there', 'ain', 'whom', 'for', 'in', \"you've\", 'does', 'had', 'how', 'above', 'more', 'was', 'i', 'haven', \"doesn't\", 'ma', \"should've\", 're', 'them', 'up', 'were', 'than', 't', 'now', 'so', 'why', 'wouldn', 'these', 'once', 'll', 'you', 'or', 'before', 'here', 'she', 'to', 'only', 'do', 'me', \"hadn't\", 'should', 'has', 'below', 'that', 'while', 'just', 'about', 'hers', 'ourselves', 'then', 'is', 'few', \"didn't\", 'hasn', 'weren', 'because', 'both', 'yourself', 's', 'a', 'ours', 'himself', \"weren't\", 'any', 'out', 'those', 'don', 'yourselves', 'my', 'doing', \"don't\", 'its', \"it's\", 'aren', 'they', 'into', 'again', 'who', 'against', 'under', 'other', 'such', \"haven't\", 'herself', 'it', 've', \"you'll\"}\n"
     ]
    }
   ],
   "source": [
    "from nltk.corpus import stopwords\n",
    "stop_words = set(stopwords.words('english'))\n",
    "print(stop_words)"
   ]
  },
  {
   "cell_type": "code",
   "execution_count": 31,
   "metadata": {},
   "outputs": [
    {
     "name": "stdout",
     "output_type": "stream",
     "text": [
      "Tokenized: \n",
      " ['Greetings', ',', 'coffee', 'comrades', '!', 'Let', \"'s\", 'dive', 'into', 'the', 'fascinating', 'world', 'of', 'coffee', '.', '☕️', 'It', \"'s\", 'not', 'just', 'a', 'beverage', ';', 'it', \"'s\", 'a', 'ritual', ',', 'a', 'hug', 'in', 'a', 'mug', '.', 'From', 'the', 'bold', 'espresso', 'shots', 'to', 'the', 'comforting', 'lattes', ',', 'there', \"'s\", 'a', 'coffee', 'for', 'every', 'mood', '.']\n",
      "Filtered: \n",
      " ['Greetings', ',', 'coffee', 'comrades', '!', 'Let', \"'s\", 'dive', 'fascinating', 'world', 'coffee', '.', '☕️', \"'s\", 'beverage', ';', \"'s\", 'ritual', ',', 'hug', 'mug', '.', 'bold', 'espresso', 'shots', 'comforting', 'lattes', ',', \"'s\", 'coffee', 'every', 'mood', '.']\n"
     ]
    }
   ],
   "source": [
    "filtered_words = []\n",
    "for w in tokenized_words:\n",
    "    if w.lower() not in stop_words: # use lowercase form of the comparitive words \n",
    "        filtered_words.append(w)\n",
    "print(\"Tokenized: \\n\", tokenized_words)\n",
    "print(\"Filtered: \\n\", filtered_words)"
   ]
  },
  {
   "cell_type": "markdown",
   "metadata": {},
   "source": [
    "# 4. POS Tagging "
   ]
  },
  {
   "cell_type": "code",
   "execution_count": 35,
   "metadata": {},
   "outputs": [
    {
     "data": {
      "text/plain": [
       "[('Greetings', 'NNS'),\n",
       " (',', ','),\n",
       " ('coffee', 'NN'),\n",
       " ('comrades', 'NNS'),\n",
       " ('!', '.'),\n",
       " ('Let', 'NNP'),\n",
       " (\"'s\", 'POS'),\n",
       " ('dive', 'NN'),\n",
       " ('into', 'IN'),\n",
       " ('the', 'DT'),\n",
       " ('fascinating', 'JJ'),\n",
       " ('world', 'NN'),\n",
       " ('of', 'IN'),\n",
       " ('coffee', 'NN'),\n",
       " ('.', '.'),\n",
       " ('☕️', 'VB'),\n",
       " ('It', 'PRP'),\n",
       " (\"'s\", 'VBZ'),\n",
       " ('not', 'RB'),\n",
       " ('just', 'RB'),\n",
       " ('a', 'DT'),\n",
       " ('beverage', 'NN'),\n",
       " (';', ':'),\n",
       " ('it', 'PRP'),\n",
       " (\"'s\", 'VBZ'),\n",
       " ('a', 'DT'),\n",
       " ('ritual', 'JJ'),\n",
       " (',', ','),\n",
       " ('a', 'DT'),\n",
       " ('hug', 'NN'),\n",
       " ('in', 'IN'),\n",
       " ('a', 'DT'),\n",
       " ('mug', 'NN'),\n",
       " ('.', '.'),\n",
       " ('From', 'IN'),\n",
       " ('the', 'DT'),\n",
       " ('bold', 'JJ'),\n",
       " ('espresso', 'JJ'),\n",
       " ('shots', 'NNS'),\n",
       " ('to', 'TO'),\n",
       " ('the', 'DT'),\n",
       " ('comforting', 'NN'),\n",
       " ('lattes', 'VBZ'),\n",
       " (',', ','),\n",
       " ('there', 'EX'),\n",
       " (\"'s\", 'VBZ'),\n",
       " ('a', 'DT'),\n",
       " ('coffee', 'NN'),\n",
       " ('for', 'IN'),\n",
       " ('every', 'DT'),\n",
       " ('mood', 'NN'),\n",
       " ('.', '.')]"
      ]
     },
     "execution_count": 35,
     "metadata": {},
     "output_type": "execute_result"
    }
   ],
   "source": [
    "nltk.pos_tag(tokenized_words)"
   ]
  },
  {
   "cell_type": "code",
   "execution_count": 40,
   "metadata": {},
   "outputs": [
    {
     "name": "stdout",
     "output_type": "stream",
     "text": [
      "NN: noun, common, singular or mass\n",
      "    common-carrier cabbage knuckle-duster Casino afghan shed thermostat\n",
      "    investment slide humour falloff slick wind hyena override subhumanity\n",
      "    machinist ...\n"
     ]
    }
   ],
   "source": [
    "nltk.help.upenn_tagset(\"NN\") # for meta info of each POS Tag "
   ]
  },
  {
   "cell_type": "markdown",
   "metadata": {},
   "source": [
    "# 5. Named Entity Recognition (NER) "
   ]
  },
  {
   "cell_type": "code",
   "execution_count": 41,
   "metadata": {},
   "outputs": [
    {
     "name": "stdout",
     "output_type": "stream",
     "text": [
      "(GPE Greetings/NNS)\n",
      "(',', ',')\n",
      "('coffee', 'NN')\n",
      "('comrades', 'NNS')\n",
      "('!', '.')\n",
      "('Let', 'NNP')\n",
      "(\"'s\", 'POS')\n",
      "('dive', 'NN')\n",
      "('into', 'IN')\n",
      "('the', 'DT')\n",
      "('fascinating', 'JJ')\n",
      "('world', 'NN')\n",
      "('of', 'IN')\n",
      "('coffee', 'NN')\n",
      "('.', '.')\n",
      "('☕️', 'VB')\n",
      "('It', 'PRP')\n",
      "(\"'s\", 'VBZ')\n",
      "('not', 'RB')\n",
      "('just', 'RB')\n",
      "('a', 'DT')\n",
      "('beverage', 'NN')\n",
      "(';', ':')\n",
      "('it', 'PRP')\n",
      "(\"'s\", 'VBZ')\n",
      "('a', 'DT')\n",
      "('ritual', 'JJ')\n",
      "(',', ',')\n",
      "('a', 'DT')\n",
      "('hug', 'NN')\n",
      "('in', 'IN')\n",
      "('a', 'DT')\n",
      "('mug', 'NN')\n",
      "('.', '.')\n",
      "('From', 'IN')\n",
      "('the', 'DT')\n",
      "('bold', 'JJ')\n",
      "('espresso', 'JJ')\n",
      "('shots', 'NNS')\n",
      "('to', 'TO')\n",
      "('the', 'DT')\n",
      "('comforting', 'NN')\n",
      "('lattes', 'VBZ')\n",
      "(',', ',')\n",
      "('there', 'EX')\n",
      "(\"'s\", 'VBZ')\n",
      "('a', 'DT')\n",
      "('coffee', 'NN')\n",
      "('for', 'IN')\n",
      "('every', 'DT')\n",
      "('mood', 'NN')\n",
      "('.', '.')\n"
     ]
    }
   ],
   "source": [
    "tagged_words = nltk.pos_tag(tokenized_words)\n",
    "named_entities = nltk.ne_chunk(tagged_words)\n",
    "# print(named_entities)\n",
    "for w in named_entities: \n",
    "    print(w)"
   ]
  },
  {
   "cell_type": "markdown",
   "metadata": {},
   "source": [
    "# 6. Lexical Normalization "
   ]
  },
  {
   "cell_type": "markdown",
   "metadata": {},
   "source": [
    "## Stemming \n",
    "The process of reducing words to their root forms by chopping-off the derivational affixes. "
   ]
  },
  {
   "cell_type": "code",
   "execution_count": 32,
   "metadata": {},
   "outputs": [
    {
     "name": "stdout",
     "output_type": "stream",
     "text": [
      "Filtered: \n",
      " ['Greetings', ',', 'coffee', 'comrades', '!', 'Let', \"'s\", 'dive', 'fascinating', 'world', 'coffee', '.', '☕️', \"'s\", 'beverage', ';', \"'s\", 'ritual', ',', 'hug', 'mug', '.', 'bold', 'espresso', 'shots', 'comforting', 'lattes', ',', \"'s\", 'coffee', 'every', 'mood', '.']\n",
      "Stemmed: \n",
      " ['greet', ',', 'coffe', 'comrad', '!', 'let', \"'s\", 'dive', 'fascin', 'world', 'coffe', '.', '☕️', \"'s\", 'beverag', ';', \"'s\", 'ritual', ',', 'hug', 'mug', '.', 'bold', 'espresso', 'shot', 'comfort', 'latt', ',', \"'s\", 'coffe', 'everi', 'mood', '.']\n"
     ]
    }
   ],
   "source": [
    "from nltk.stem import PorterStemmer\n",
    "ps = PorterStemmer()\n",
    "stemmed_words = []\n",
    "for w in filtered_words:\n",
    "    stemmed_words.append(ps.stem(w))\n",
    "print(\"Filtered: \\n\", filtered_words)\n",
    "print(\"Stemmed: \\n\", stemmed_words)"
   ]
  },
  {
   "cell_type": "markdown",
   "metadata": {},
   "source": [
    "## Lemmatization \n",
    "The process of reducing the words to their root forms based on dictionary look-up "
   ]
  },
  {
   "cell_type": "code",
   "execution_count": 33,
   "metadata": {},
   "outputs": [
    {
     "name": "stdout",
     "output_type": "stream",
     "text": [
      "Stemmed: \n",
      " ['greet', ',', 'coffe', 'comrad', '!', 'let', \"'s\", 'dive', 'fascin', 'world', 'coffe', '.', '☕️', \"'s\", 'beverag', ';', \"'s\", 'ritual', ',', 'hug', 'mug', '.', 'bold', 'espresso', 'shot', 'comfort', 'latt', ',', \"'s\", 'coffe', 'everi', 'mood', '.']\n",
      "Lemmatized: \n",
      " ['Greetings', ',', 'coffee', 'comrades', '!', 'Let', \"'s\", 'dive', 'fascinate', 'world', 'coffee', '.', '☕️', \"'s\", 'beverage', ';', \"'s\", 'ritual', ',', 'hug', 'mug', '.', 'bold', 'espresso', 'shots', 'comfort', 'lattes', ',', \"'s\", 'coffee', 'every', 'mood', '.']\n"
     ]
    }
   ],
   "source": [
    "from nltk.stem.wordnet import WordNetLemmatizer\n",
    "lem = WordNetLemmatizer()\n",
    "lemma_words = []\n",
    "for w in filtered_words:\n",
    "    lemma_words.append(lem.lemmatize(w, \"v\"))\n",
    "print(\"Stemmed: \\n\", stemmed_words)\n",
    "print(\"Lemmatized: \\n\", lemma_words)"
   ]
  },
  {
   "cell_type": "markdown",
   "metadata": {},
   "source": [
    "## Compare Stemming and Lemmatization\n",
    "- Stemming is fast, but produces invalid root word forms i.e., words that do not exist in the dictionary. \n",
    "- Lemmatization is slower, yet it considers the POS Tag of the word in hand to look-up the right valid root form from the dictionary. "
   ]
  },
  {
   "cell_type": "code",
   "execution_count": 34,
   "metadata": {},
   "outputs": [
    {
     "name": "stdout",
     "output_type": "stream",
     "text": [
      "Raw Word:  Flying\n",
      "Stemmed Word:  fli\n",
      "Lemmatized Word:  fly\n",
      "\n",
      "\n",
      "Raw Word:  Better\n",
      "Stemmed Word:  better\n",
      "Lemmatized Word:  good\n"
     ]
    }
   ],
   "source": [
    "word = \"Flying\" # always pass only the lower form of the words for Stemming or Lemmatization \n",
    "print(\"Raw Word: \", word)\n",
    "print(\"Stemmed Word: \", ps.stem(word.lower()))\n",
    "print(\"Lemmatized Word: \", lem.lemmatize(word.lower(), pos=\"v\"))\n",
    "print(\"\\n\")\n",
    "\n",
    "word = \"Better\"\n",
    "print(\"Raw Word: \", word)\n",
    "print(\"Stemmed Word: \", ps.stem(word.lower()))\n",
    "print(\"Lemmatized Word: \", lem.lemmatize(word.lower(), pos=\"a\"))"
   ]
  },
  {
   "cell_type": "markdown",
   "metadata": {},
   "source": [
    "# 7. Dependency Parsing \n",
    "NLTK is not the best choice for Dependency Parsing. Hence using spaCy. "
   ]
  },
  {
   "cell_type": "code",
   "execution_count": 54,
   "metadata": {},
   "outputs": [
    {
     "name": "stderr",
     "output_type": "stream",
     "text": [
      "D:\\Installation_deck\\AnaConDa\\lib\\site-packages\\spacy\\util.py:730: UserWarning: [W095] Model 'en_core_web_sm' (3.0.0) was trained with spaCy v3.0 and may not be 100% compatible with the current version (3.1.0). If you see errors or degraded performance, download a newer compatible model or retrain your custom model with the current spaCy version. For more details and available updates, run: python -m spacy validate\n",
      "  warnings.warn(warn_msg)\n"
     ]
    },
    {
     "name": "stdout",
     "output_type": "stream",
     "text": [
      "Node (from)-->   Relation     -->Node (to)\n",
      "\n",
      "ocean              amod             Gentle\n",
      "waves            compound            ocean\n",
      "waves              ROOT              waves\n",
      "waves              acl            crashing\n",
      "crashing           prep            against\n",
      "shore              det                 the\n",
      "shore              amod              sandy\n",
      "against            pobj              shore\n",
      "crashing           prep                 on\n",
      "evening            det                   a\n",
      "evening            amod           peaceful\n",
      "on                 pobj            evening\n",
      "waves             punct                  .\n"
     ]
    },
    {
     "data": {
      "text/html": [
       "<span class=\"tex2jax_ignore\"><svg xmlns=\"http://www.w3.org/2000/svg\" xmlns:xlink=\"http://www.w3.org/1999/xlink\" xml:lang=\"en\" id=\"c12aa03e81654e8c97a8d2c3b8f6aa91-0\" class=\"displacy\" width=\"2150\" height=\"487.0\" direction=\"ltr\" style=\"max-width: none; height: 487.0px; color: #000000; background: #ffffff; font-family: Arial; direction: ltr\">\n",
       "<text class=\"displacy-token\" fill=\"currentColor\" text-anchor=\"middle\" y=\"397.0\">\n",
       "    <tspan class=\"displacy-word\" fill=\"currentColor\" x=\"50\">Gentle</tspan>\n",
       "    <tspan class=\"displacy-tag\" dy=\"2em\" fill=\"currentColor\" x=\"50\">ADJ</tspan>\n",
       "</text>\n",
       "\n",
       "<text class=\"displacy-token\" fill=\"currentColor\" text-anchor=\"middle\" y=\"397.0\">\n",
       "    <tspan class=\"displacy-word\" fill=\"currentColor\" x=\"225\">ocean</tspan>\n",
       "    <tspan class=\"displacy-tag\" dy=\"2em\" fill=\"currentColor\" x=\"225\">NOUN</tspan>\n",
       "</text>\n",
       "\n",
       "<text class=\"displacy-token\" fill=\"currentColor\" text-anchor=\"middle\" y=\"397.0\">\n",
       "    <tspan class=\"displacy-word\" fill=\"currentColor\" x=\"400\">waves</tspan>\n",
       "    <tspan class=\"displacy-tag\" dy=\"2em\" fill=\"currentColor\" x=\"400\">NOUN</tspan>\n",
       "</text>\n",
       "\n",
       "<text class=\"displacy-token\" fill=\"currentColor\" text-anchor=\"middle\" y=\"397.0\">\n",
       "    <tspan class=\"displacy-word\" fill=\"currentColor\" x=\"575\">crashing</tspan>\n",
       "    <tspan class=\"displacy-tag\" dy=\"2em\" fill=\"currentColor\" x=\"575\">VERB</tspan>\n",
       "</text>\n",
       "\n",
       "<text class=\"displacy-token\" fill=\"currentColor\" text-anchor=\"middle\" y=\"397.0\">\n",
       "    <tspan class=\"displacy-word\" fill=\"currentColor\" x=\"750\">against</tspan>\n",
       "    <tspan class=\"displacy-tag\" dy=\"2em\" fill=\"currentColor\" x=\"750\">ADP</tspan>\n",
       "</text>\n",
       "\n",
       "<text class=\"displacy-token\" fill=\"currentColor\" text-anchor=\"middle\" y=\"397.0\">\n",
       "    <tspan class=\"displacy-word\" fill=\"currentColor\" x=\"925\">the</tspan>\n",
       "    <tspan class=\"displacy-tag\" dy=\"2em\" fill=\"currentColor\" x=\"925\">DET</tspan>\n",
       "</text>\n",
       "\n",
       "<text class=\"displacy-token\" fill=\"currentColor\" text-anchor=\"middle\" y=\"397.0\">\n",
       "    <tspan class=\"displacy-word\" fill=\"currentColor\" x=\"1100\">sandy</tspan>\n",
       "    <tspan class=\"displacy-tag\" dy=\"2em\" fill=\"currentColor\" x=\"1100\">ADJ</tspan>\n",
       "</text>\n",
       "\n",
       "<text class=\"displacy-token\" fill=\"currentColor\" text-anchor=\"middle\" y=\"397.0\">\n",
       "    <tspan class=\"displacy-word\" fill=\"currentColor\" x=\"1275\">shore</tspan>\n",
       "    <tspan class=\"displacy-tag\" dy=\"2em\" fill=\"currentColor\" x=\"1275\">NOUN</tspan>\n",
       "</text>\n",
       "\n",
       "<text class=\"displacy-token\" fill=\"currentColor\" text-anchor=\"middle\" y=\"397.0\">\n",
       "    <tspan class=\"displacy-word\" fill=\"currentColor\" x=\"1450\">on</tspan>\n",
       "    <tspan class=\"displacy-tag\" dy=\"2em\" fill=\"currentColor\" x=\"1450\">ADP</tspan>\n",
       "</text>\n",
       "\n",
       "<text class=\"displacy-token\" fill=\"currentColor\" text-anchor=\"middle\" y=\"397.0\">\n",
       "    <tspan class=\"displacy-word\" fill=\"currentColor\" x=\"1625\">a</tspan>\n",
       "    <tspan class=\"displacy-tag\" dy=\"2em\" fill=\"currentColor\" x=\"1625\">DET</tspan>\n",
       "</text>\n",
       "\n",
       "<text class=\"displacy-token\" fill=\"currentColor\" text-anchor=\"middle\" y=\"397.0\">\n",
       "    <tspan class=\"displacy-word\" fill=\"currentColor\" x=\"1800\">peaceful</tspan>\n",
       "    <tspan class=\"displacy-tag\" dy=\"2em\" fill=\"currentColor\" x=\"1800\">ADJ</tspan>\n",
       "</text>\n",
       "\n",
       "<text class=\"displacy-token\" fill=\"currentColor\" text-anchor=\"middle\" y=\"397.0\">\n",
       "    <tspan class=\"displacy-word\" fill=\"currentColor\" x=\"1975\">evening.</tspan>\n",
       "    <tspan class=\"displacy-tag\" dy=\"2em\" fill=\"currentColor\" x=\"1975\">NOUN</tspan>\n",
       "</text>\n",
       "\n",
       "<g class=\"displacy-arrow\">\n",
       "    <path class=\"displacy-arc\" id=\"arrow-c12aa03e81654e8c97a8d2c3b8f6aa91-0-0\" stroke-width=\"2px\" d=\"M70,352.0 C70,264.5 210.0,264.5 210.0,352.0\" fill=\"none\" stroke=\"currentColor\"/>\n",
       "    <text dy=\"1.25em\" style=\"font-size: 0.8em; letter-spacing: 1px\">\n",
       "        <textPath xlink:href=\"#arrow-c12aa03e81654e8c97a8d2c3b8f6aa91-0-0\" class=\"displacy-label\" startOffset=\"50%\" side=\"left\" fill=\"currentColor\" text-anchor=\"middle\">amod</textPath>\n",
       "    </text>\n",
       "    <path class=\"displacy-arrowhead\" d=\"M70,354.0 L62,342.0 78,342.0\" fill=\"currentColor\"/>\n",
       "</g>\n",
       "\n",
       "<g class=\"displacy-arrow\">\n",
       "    <path class=\"displacy-arc\" id=\"arrow-c12aa03e81654e8c97a8d2c3b8f6aa91-0-1\" stroke-width=\"2px\" d=\"M245,352.0 C245,264.5 385.0,264.5 385.0,352.0\" fill=\"none\" stroke=\"currentColor\"/>\n",
       "    <text dy=\"1.25em\" style=\"font-size: 0.8em; letter-spacing: 1px\">\n",
       "        <textPath xlink:href=\"#arrow-c12aa03e81654e8c97a8d2c3b8f6aa91-0-1\" class=\"displacy-label\" startOffset=\"50%\" side=\"left\" fill=\"currentColor\" text-anchor=\"middle\">compound</textPath>\n",
       "    </text>\n",
       "    <path class=\"displacy-arrowhead\" d=\"M245,354.0 L237,342.0 253,342.0\" fill=\"currentColor\"/>\n",
       "</g>\n",
       "\n",
       "<g class=\"displacy-arrow\">\n",
       "    <path class=\"displacy-arc\" id=\"arrow-c12aa03e81654e8c97a8d2c3b8f6aa91-0-2\" stroke-width=\"2px\" d=\"M420,352.0 C420,264.5 560.0,264.5 560.0,352.0\" fill=\"none\" stroke=\"currentColor\"/>\n",
       "    <text dy=\"1.25em\" style=\"font-size: 0.8em; letter-spacing: 1px\">\n",
       "        <textPath xlink:href=\"#arrow-c12aa03e81654e8c97a8d2c3b8f6aa91-0-2\" class=\"displacy-label\" startOffset=\"50%\" side=\"left\" fill=\"currentColor\" text-anchor=\"middle\">acl</textPath>\n",
       "    </text>\n",
       "    <path class=\"displacy-arrowhead\" d=\"M560.0,354.0 L568.0,342.0 552.0,342.0\" fill=\"currentColor\"/>\n",
       "</g>\n",
       "\n",
       "<g class=\"displacy-arrow\">\n",
       "    <path class=\"displacy-arc\" id=\"arrow-c12aa03e81654e8c97a8d2c3b8f6aa91-0-3\" stroke-width=\"2px\" d=\"M595,352.0 C595,264.5 735.0,264.5 735.0,352.0\" fill=\"none\" stroke=\"currentColor\"/>\n",
       "    <text dy=\"1.25em\" style=\"font-size: 0.8em; letter-spacing: 1px\">\n",
       "        <textPath xlink:href=\"#arrow-c12aa03e81654e8c97a8d2c3b8f6aa91-0-3\" class=\"displacy-label\" startOffset=\"50%\" side=\"left\" fill=\"currentColor\" text-anchor=\"middle\">prep</textPath>\n",
       "    </text>\n",
       "    <path class=\"displacy-arrowhead\" d=\"M735.0,354.0 L743.0,342.0 727.0,342.0\" fill=\"currentColor\"/>\n",
       "</g>\n",
       "\n",
       "<g class=\"displacy-arrow\">\n",
       "    <path class=\"displacy-arc\" id=\"arrow-c12aa03e81654e8c97a8d2c3b8f6aa91-0-4\" stroke-width=\"2px\" d=\"M945,352.0 C945,177.0 1265.0,177.0 1265.0,352.0\" fill=\"none\" stroke=\"currentColor\"/>\n",
       "    <text dy=\"1.25em\" style=\"font-size: 0.8em; letter-spacing: 1px\">\n",
       "        <textPath xlink:href=\"#arrow-c12aa03e81654e8c97a8d2c3b8f6aa91-0-4\" class=\"displacy-label\" startOffset=\"50%\" side=\"left\" fill=\"currentColor\" text-anchor=\"middle\">det</textPath>\n",
       "    </text>\n",
       "    <path class=\"displacy-arrowhead\" d=\"M945,354.0 L937,342.0 953,342.0\" fill=\"currentColor\"/>\n",
       "</g>\n",
       "\n",
       "<g class=\"displacy-arrow\">\n",
       "    <path class=\"displacy-arc\" id=\"arrow-c12aa03e81654e8c97a8d2c3b8f6aa91-0-5\" stroke-width=\"2px\" d=\"M1120,352.0 C1120,264.5 1260.0,264.5 1260.0,352.0\" fill=\"none\" stroke=\"currentColor\"/>\n",
       "    <text dy=\"1.25em\" style=\"font-size: 0.8em; letter-spacing: 1px\">\n",
       "        <textPath xlink:href=\"#arrow-c12aa03e81654e8c97a8d2c3b8f6aa91-0-5\" class=\"displacy-label\" startOffset=\"50%\" side=\"left\" fill=\"currentColor\" text-anchor=\"middle\">amod</textPath>\n",
       "    </text>\n",
       "    <path class=\"displacy-arrowhead\" d=\"M1120,354.0 L1112,342.0 1128,342.0\" fill=\"currentColor\"/>\n",
       "</g>\n",
       "\n",
       "<g class=\"displacy-arrow\">\n",
       "    <path class=\"displacy-arc\" id=\"arrow-c12aa03e81654e8c97a8d2c3b8f6aa91-0-6\" stroke-width=\"2px\" d=\"M770,352.0 C770,89.5 1270.0,89.5 1270.0,352.0\" fill=\"none\" stroke=\"currentColor\"/>\n",
       "    <text dy=\"1.25em\" style=\"font-size: 0.8em; letter-spacing: 1px\">\n",
       "        <textPath xlink:href=\"#arrow-c12aa03e81654e8c97a8d2c3b8f6aa91-0-6\" class=\"displacy-label\" startOffset=\"50%\" side=\"left\" fill=\"currentColor\" text-anchor=\"middle\">pobj</textPath>\n",
       "    </text>\n",
       "    <path class=\"displacy-arrowhead\" d=\"M1270.0,354.0 L1278.0,342.0 1262.0,342.0\" fill=\"currentColor\"/>\n",
       "</g>\n",
       "\n",
       "<g class=\"displacy-arrow\">\n",
       "    <path class=\"displacy-arc\" id=\"arrow-c12aa03e81654e8c97a8d2c3b8f6aa91-0-7\" stroke-width=\"2px\" d=\"M595,352.0 C595,2.0 1450.0,2.0 1450.0,352.0\" fill=\"none\" stroke=\"currentColor\"/>\n",
       "    <text dy=\"1.25em\" style=\"font-size: 0.8em; letter-spacing: 1px\">\n",
       "        <textPath xlink:href=\"#arrow-c12aa03e81654e8c97a8d2c3b8f6aa91-0-7\" class=\"displacy-label\" startOffset=\"50%\" side=\"left\" fill=\"currentColor\" text-anchor=\"middle\">prep</textPath>\n",
       "    </text>\n",
       "    <path class=\"displacy-arrowhead\" d=\"M1450.0,354.0 L1458.0,342.0 1442.0,342.0\" fill=\"currentColor\"/>\n",
       "</g>\n",
       "\n",
       "<g class=\"displacy-arrow\">\n",
       "    <path class=\"displacy-arc\" id=\"arrow-c12aa03e81654e8c97a8d2c3b8f6aa91-0-8\" stroke-width=\"2px\" d=\"M1645,352.0 C1645,177.0 1965.0,177.0 1965.0,352.0\" fill=\"none\" stroke=\"currentColor\"/>\n",
       "    <text dy=\"1.25em\" style=\"font-size: 0.8em; letter-spacing: 1px\">\n",
       "        <textPath xlink:href=\"#arrow-c12aa03e81654e8c97a8d2c3b8f6aa91-0-8\" class=\"displacy-label\" startOffset=\"50%\" side=\"left\" fill=\"currentColor\" text-anchor=\"middle\">det</textPath>\n",
       "    </text>\n",
       "    <path class=\"displacy-arrowhead\" d=\"M1645,354.0 L1637,342.0 1653,342.0\" fill=\"currentColor\"/>\n",
       "</g>\n",
       "\n",
       "<g class=\"displacy-arrow\">\n",
       "    <path class=\"displacy-arc\" id=\"arrow-c12aa03e81654e8c97a8d2c3b8f6aa91-0-9\" stroke-width=\"2px\" d=\"M1820,352.0 C1820,264.5 1960.0,264.5 1960.0,352.0\" fill=\"none\" stroke=\"currentColor\"/>\n",
       "    <text dy=\"1.25em\" style=\"font-size: 0.8em; letter-spacing: 1px\">\n",
       "        <textPath xlink:href=\"#arrow-c12aa03e81654e8c97a8d2c3b8f6aa91-0-9\" class=\"displacy-label\" startOffset=\"50%\" side=\"left\" fill=\"currentColor\" text-anchor=\"middle\">amod</textPath>\n",
       "    </text>\n",
       "    <path class=\"displacy-arrowhead\" d=\"M1820,354.0 L1812,342.0 1828,342.0\" fill=\"currentColor\"/>\n",
       "</g>\n",
       "\n",
       "<g class=\"displacy-arrow\">\n",
       "    <path class=\"displacy-arc\" id=\"arrow-c12aa03e81654e8c97a8d2c3b8f6aa91-0-10\" stroke-width=\"2px\" d=\"M1470,352.0 C1470,89.5 1970.0,89.5 1970.0,352.0\" fill=\"none\" stroke=\"currentColor\"/>\n",
       "    <text dy=\"1.25em\" style=\"font-size: 0.8em; letter-spacing: 1px\">\n",
       "        <textPath xlink:href=\"#arrow-c12aa03e81654e8c97a8d2c3b8f6aa91-0-10\" class=\"displacy-label\" startOffset=\"50%\" side=\"left\" fill=\"currentColor\" text-anchor=\"middle\">pobj</textPath>\n",
       "    </text>\n",
       "    <path class=\"displacy-arrowhead\" d=\"M1970.0,354.0 L1978.0,342.0 1962.0,342.0\" fill=\"currentColor\"/>\n",
       "</g>\n",
       "</svg></span>"
      ],
      "text/plain": [
       "<IPython.core.display.HTML object>"
      ]
     },
     "metadata": {},
     "output_type": "display_data"
    }
   ],
   "source": [
    "import spacy \n",
    "from spacy import displacy \n",
    "\n",
    "nlp = spacy.load(\"en_core_web_sm\")\n",
    "sentence = \"Gentle ocean waves crashing against the sandy shore on a peaceful evening.\"\n",
    "doc = nlp(sentence)\n",
    "print(f\"{'Node (from)-->':<15} {'Relation':^10} {'-->Node (to)':>15}\\n\")\n",
    "for token in doc:\n",
    "    print(\"{:<15} {:^10} {:>15}\".format(str(token.head.text), str(token.dep_), str(token.text)))\n",
    "    \n",
    "displacy.render(doc, style='dep')"
   ]
  },
  {
   "cell_type": "code",
   "execution_count": null,
   "metadata": {},
   "outputs": [],
   "source": []
  }
 ],
 "metadata": {
  "kernelspec": {
   "display_name": "Python 3",
   "language": "python",
   "name": "python3"
  },
  "language_info": {
   "codemirror_mode": {
    "name": "ipython",
    "version": 3
   },
   "file_extension": ".py",
   "mimetype": "text/x-python",
   "name": "python",
   "nbconvert_exporter": "python",
   "pygments_lexer": "ipython3",
   "version": "3.8.5"
  }
 },
 "nbformat": 4,
 "nbformat_minor": 4
}
